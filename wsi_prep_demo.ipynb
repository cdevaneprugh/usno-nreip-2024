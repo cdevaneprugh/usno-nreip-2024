{
 "cells": [
  {
   "cell_type": "code",
   "execution_count": 1,
   "id": "e254cf36-7a35-483d-bab4-c3b89dbfe4c7",
   "metadata": {},
   "outputs": [],
   "source": [
    "import math\n",
    "import warnings\n",
    "import numpy as np\n",
    "import pandas as pd\n",
    "from erfa import ErfaWarning\n",
    "\n",
    "from utils_misc import reduce_targets, compare_targets, show_unique_items\n",
    "from utils_wsi_epoch_prop import wsi_J2016_prop\n",
    "from utils_proper_motion import total_pm\n",
    "\n",
    "warnings.simplefilter(action='ignore', category=FutureWarning)\n",
    "warnings.simplefilter('ignore', category=ErfaWarning)"
   ]
  },
  {
   "cell_type": "markdown",
   "id": "198618ac-036e-4631-ae70-50b069c9805a",
   "metadata": {},
   "source": [
    "# Goal\n",
    "For stars in the WSI:\n",
    "1. How many primaries have mags and proper motions in the wds?\n",
    "2. How many secondaries have mags and proper motions in the wds?\n",
    "3. Propagate positions of stars to J2016 for Gaia query.\n",
    "\n",
    "### A note on column names\n",
    "I've renamed columns in both the wds and wsi to keep better track of which data point belongs to which catalog.\n",
    "\n",
    "Columns in the wds always start with \"wds\". For example, the first few are \"wds_id\", \"wds_dd\", \"wds_comp\", and so on. Similarly, the wsi would be \"wsi_id\", \"wsi_dd\", \"wsi_comp\"..."
   ]
  },
  {
   "cell_type": "code",
   "execution_count": 2,
   "id": "b6aa8b3c-c74f-40ed-90bc-26a5757f20df",
   "metadata": {},
   "outputs": [],
   "source": [
    "# read in data\n",
    "# replace empty coords with AB\n",
    "wsi = pd.read_csv('data/wsi24.csv').replace({'wds_comp':np.NaN},'AB')\n",
    "wds = pd.read_csv('data/wds.summ.csv').replace({'wds_comp':np.NaN},'AB')\n",
    "\n",
    "# flag remaining nans and empty mag measurements to be located ('.' in wds)\n",
    "wds = wds.replace({'wds_notes':np.NaN}, '') # dont flag empty entries in wds notes\n",
    "wds = wds.replace([np.NaN, '.'],'%')\n",
    "\n",
    "# force column data types as needed\n",
    "wsi = wsi.astype( {'wds_id':str, 'wds_comp':str} )\n",
    "wds = wds.astype( {'wds_id':str, 'wds_comp':str, \n",
    "                   'wds_mag1':str, 'wds_mag2':str,\n",
    "                   'wds_coord':str} )"
   ]
  },
  {
   "cell_type": "code",
   "execution_count": 3,
   "id": "27740f2c-8afc-490f-a148-67d0a59133bf",
   "metadata": {},
   "outputs": [],
   "source": [
    "# remove target with no precise coord\n",
    "wsi = wsi.drop(wsi.loc[ wsi.wds_id == '22267+6011' ].index)\n",
    "wds = wds.drop(wds.loc[ wds.wds_id == '22267+6011' ].index)"
   ]
  },
  {
   "cell_type": "code",
   "execution_count": 4,
   "id": "5b114995-7de0-479d-9475-29fc4424a6e3",
   "metadata": {},
   "outputs": [],
   "source": [
    "# filter wsi\n",
    "wsi = wsi.drop( columns=['wsi_ra_deg', 'wsi_dec_deg'] ) # drop RA and Dec columns\n",
    "# wsi = wsi[ wsi['wsi_filter'] == 'y' ] # mask off all filters except y\n",
    "wsi = wsi.loc[ ~wsi['wsi_dm'].isin([0.0,7.5]) ] # mask off any entry with a dm of 0.0 or 7.5 (pipeline error)\n",
    "wsi = wsi.reset_index(drop=True)"
   ]
  },
  {
   "cell_type": "code",
   "execution_count": 5,
   "id": "ecfe8d8c-1d2a-47f1-9348-51950ca77ed0",
   "metadata": {},
   "outputs": [
    {
     "name": "stdout",
     "output_type": "stream",
     "text": [
      "are unique targs the same for wds & wsi? how many are there? (True, 2137)\n",
      "wsi length 2877\n",
      "wds length 3809\n"
     ]
    }
   ],
   "source": [
    "# reduce wds to targets found in wsi\n",
    "wds = reduce_targets(wds, wsi)\n",
    "print( 'are unique targs the same for wds & wsi? how many are there?', compare_targets(wsi, wds) )\n",
    "print( 'wsi length', len(wsi) )\n",
    "print( 'wds length', len(wds) )"
   ]
  },
  {
   "cell_type": "code",
   "execution_count": 6,
   "id": "1ac72f2f-c546-4817-8f24-45c6ce959323",
   "metadata": {},
   "outputs": [
    {
     "data": {
      "text/plain": [
       "0"
      ]
     },
     "execution_count": 6,
     "metadata": {},
     "output_type": "execute_result"
    }
   ],
   "source": [
    "# search for direct comp match between wsi and wds entry\n",
    "# we should find a direct match for each, flag it if we dont\n",
    "comps = []\n",
    "\n",
    "for i, wds_id in enumerate( wsi['wds_id'] ): # loop through wds_ids in our wsi catalog\n",
    "\n",
    "    # define the component for the current entry\n",
    "    component = wsi.wds_comp.iloc[i]\n",
    "    \n",
    "    # find the primary match\n",
    "    match = wds.loc[ (wds['wds_id']==wds_id) & (wds['wds_comp']==component) ]\n",
    "\n",
    "    # try to add the component of the match to the list\n",
    "    try:\n",
    "        comps.append( match.wds_comp.iloc[0] )\n",
    "    except:\n",
    "        comps.append( '%' )\n",
    "\n",
    "# check for number of flagged comps\n",
    "comps.count('%')"
   ]
  },
  {
   "cell_type": "markdown",
   "id": "af386438-0cd8-4b6f-9f95-143c78ddf1f0",
   "metadata": {},
   "source": [
    "now we can loop through the wsi, (knowing we get a component match for each observation) and add data from the wds to the wsi.\n",
    "\n",
    "every observation will have a precise coordinate for the primary. They also _should_ have a mag and pm for the primary. we'll see how many secondaries have mags and pms"
   ]
  },
  {
   "cell_type": "code",
   "execution_count": 7,
   "id": "e2aa04ec-a227-4527-a1de-d7a6cfa1b8ac",
   "metadata": {},
   "outputs": [],
   "source": [
    "primary_coords = []\n",
    "primary_mags = []\n",
    "secondary_mags = []\n",
    "primary_pms_ra = []\n",
    "primary_pms_dec = []\n",
    "secondary_pms_ra = []\n",
    "secondary_pms_dec = []\n",
    "wds_notes = []\n",
    "\n",
    "for i, wds_id in enumerate( wsi['wds_id'] ): # loop through wds_ids in our wsi catalog\n",
    "\n",
    "    # define component for current entry\n",
    "    component = wsi.wds_comp.iloc[i]\n",
    "\n",
    "    # find match based on current wds id and component\n",
    "    match = wds.loc[ (wds['wds_id']==wds_id) & (wds['wds_comp']==component) ]\n",
    "\n",
    "    # add precise primary coordinate\n",
    "    primary_coords.append( match.wds_coord.iloc[0] )\n",
    "\n",
    "    # add primary mag\n",
    "    primary_mags.append( match.wds_mag1.iloc[0] )\n",
    "\n",
    "    # add secondary mag\n",
    "    secondary_mags.append( match.wds_mag2.iloc[0] )\n",
    "\n",
    "    # add primary pms\n",
    "    primary_pms_ra.append( match.wds_pm1_ra.iloc[0]  )\n",
    "    primary_pms_dec.append( match.wds_pm1_dec.iloc[0] )\n",
    "    \n",
    "    # add secondary pms\n",
    "    secondary_pms_ra.append( match.wds_pm2_ra.iloc[0] )\n",
    "    secondary_pms_dec.append( match.wds_pm2_dec.iloc[0] )\n",
    "\n",
    "    # add notes\n",
    "    wds_notes.append( match.wds_notes.iloc[0] )\n",
    "\n",
    "# add the lists to the wsi dataframe\n",
    "wsi['wds_coord1'] = primary_coords\n",
    "wsi['wds_mag1'] = primary_mags\n",
    "wsi['wds_mag2'] = secondary_mags\n",
    "wsi['wds_pm1_ra'] = primary_pms_ra\n",
    "wsi['wds_pm1_dec'] = primary_pms_dec\n",
    "wsi['wds_pm2_ra'] = secondary_pms_ra\n",
    "wsi['wds_pm2_dec'] = secondary_pms_dec\n",
    "wsi['wds_notes'] = wds_notes"
   ]
  },
  {
   "cell_type": "code",
   "execution_count": 8,
   "id": "db9d9888-e31f-48dd-b942-32b5576decce",
   "metadata": {},
   "outputs": [
    {
     "name": "stdout",
     "output_type": "stream",
     "text": [
      "18124-0718 : 18 12 24.02 -07 17 49.1\n",
      "13203+6938 : 13 20 15.93 +69 38 08.3\n"
     ]
    }
   ],
   "source": [
    "# sanity check: compare the wds ids to the precise coordinates we just added\n",
    "# the wds id should be a rounded version of the precise coords\n",
    "print( wsi.wds_id.iloc[0], ':', wsi.wds_coord1.iloc[0] )\n",
    "print( wsi.wds_id.iloc[-1], ':', wsi.wds_coord1.iloc[-1] )"
   ]
  },
  {
   "cell_type": "markdown",
   "id": "e6a2deab-3412-4d24-a866-2b835fb1b2a1",
   "metadata": {},
   "source": [
    "now we can check for any missing mags and proper motions for the primaries and secondaries"
   ]
  },
  {
   "cell_type": "code",
   "execution_count": 9,
   "id": "f570fa90-ab8a-4640-9be4-c76458faa1ba",
   "metadata": {},
   "outputs": [
    {
     "data": {
      "text/plain": [
       "0"
      ]
     },
     "execution_count": 9,
     "metadata": {},
     "output_type": "execute_result"
    }
   ],
   "source": [
    "# are we missing any primary mags?\n",
    "list(wsi.wds_mag1).count('%')"
   ]
  },
  {
   "cell_type": "markdown",
   "id": "4c3ce0de-e402-4b2d-9d06-de1848f9cae1",
   "metadata": {},
   "source": [
    "all there. now we'll try secondaries"
   ]
  },
  {
   "cell_type": "code",
   "execution_count": 10,
   "id": "bdbd5d03-f27f-42ab-bde1-7c0473bea7c0",
   "metadata": {},
   "outputs": [
    {
     "data": {
      "text/plain": [
       "1"
      ]
     },
     "execution_count": 10,
     "metadata": {},
     "output_type": "execute_result"
    }
   ],
   "source": [
    "# are we missing any secondary mags?\n",
    "list(wsi.wds_mag2).count('%')"
   ]
  },
  {
   "cell_type": "markdown",
   "id": "9fd792a3-754f-4d2a-bd23-1619bc94cc17",
   "metadata": {},
   "source": [
    "we're missing one secondary mag. lets just get rid of that entry so it doesn't give us issues later"
   ]
  },
  {
   "cell_type": "code",
   "execution_count": 11,
   "id": "9373340b-01a3-4fc9-b0a3-e461fc7f7de2",
   "metadata": {},
   "outputs": [],
   "source": [
    "# drop row with missing secondary mag\n",
    "wsi = wsi.drop( wsi.loc[ wsi['wds_mag2'] == '%' ].index ).reset_index(drop=True)"
   ]
  },
  {
   "cell_type": "markdown",
   "id": "d8e90c9b-2d0a-4ef5-8a7d-3237e10b821c",
   "metadata": {},
   "source": [
    "now lets check proper motions for the primary and secondary"
   ]
  },
  {
   "cell_type": "code",
   "execution_count": 12,
   "id": "75e906cc-687f-46fb-862f-0febbcfc0c3b",
   "metadata": {},
   "outputs": [
    {
     "name": "stdout",
     "output_type": "stream",
     "text": [
      "2\n",
      "2\n"
     ]
    }
   ],
   "source": [
    "# check primaries\n",
    "print( list(wsi.wds_pm1_ra).count('%') )\n",
    "print( list(wsi.wds_pm1_dec).count('%') )"
   ]
  },
  {
   "cell_type": "code",
   "execution_count": 13,
   "id": "6612ed67-9f7d-49bb-a274-2af808d49c60",
   "metadata": {},
   "outputs": [
    {
     "data": {
      "text/html": [
       "<div>\n",
       "<style scoped>\n",
       "    .dataframe tbody tr th:only-of-type {\n",
       "        vertical-align: middle;\n",
       "    }\n",
       "\n",
       "    .dataframe tbody tr th {\n",
       "        vertical-align: top;\n",
       "    }\n",
       "\n",
       "    .dataframe thead th {\n",
       "        text-align: right;\n",
       "    }\n",
       "</style>\n",
       "<table border=\"1\" class=\"dataframe\">\n",
       "  <thead>\n",
       "    <tr style=\"text-align: right;\">\n",
       "      <th></th>\n",
       "      <th>wds_id</th>\n",
       "      <th>wds_dd</th>\n",
       "      <th>wds_comp</th>\n",
       "      <th>wsi_date</th>\n",
       "      <th>wsi_filter</th>\n",
       "      <th>wsi_sep</th>\n",
       "      <th>wsi_sep_e</th>\n",
       "      <th>wsi_pa</th>\n",
       "      <th>wsi_pa_e</th>\n",
       "      <th>wsi_dm</th>\n",
       "      <th>...</th>\n",
       "      <th>sb_flg1</th>\n",
       "      <th>sb_flg2</th>\n",
       "      <th>wds_coord1</th>\n",
       "      <th>wds_mag1</th>\n",
       "      <th>wds_mag2</th>\n",
       "      <th>wds_pm1_ra</th>\n",
       "      <th>wds_pm1_dec</th>\n",
       "      <th>wds_pm2_ra</th>\n",
       "      <th>wds_pm2_dec</th>\n",
       "      <th>wds_notes</th>\n",
       "    </tr>\n",
       "  </thead>\n",
       "  <tbody>\n",
       "    <tr>\n",
       "      <th>1230</th>\n",
       "      <td>02478+4700</td>\n",
       "      <td>J   882AB</td>\n",
       "      <td>AB</td>\n",
       "      <td>2020.8831</td>\n",
       "      <td>C</td>\n",
       "      <td>4.4171</td>\n",
       "      <td>0.0164</td>\n",
       "      <td>29.11</td>\n",
       "      <td>0.21</td>\n",
       "      <td>0.7</td>\n",
       "      <td>...</td>\n",
       "      <td>.</td>\n",
       "      <td>.</td>\n",
       "      <td>02 47 49.08 +47 01 18.6</td>\n",
       "      <td>9.8</td>\n",
       "      <td>9.8</td>\n",
       "      <td>%</td>\n",
       "      <td>%</td>\n",
       "      <td>56.0</td>\n",
       "      <td>-25.0</td>\n",
       "      <td></td>\n",
       "    </tr>\n",
       "    <tr>\n",
       "      <th>2632</th>\n",
       "      <td>11563+3527</td>\n",
       "      <td>STT 241</td>\n",
       "      <td>AB</td>\n",
       "      <td>2021.2446</td>\n",
       "      <td>y</td>\n",
       "      <td>1.7945</td>\n",
       "      <td>0.0023</td>\n",
       "      <td>147.56</td>\n",
       "      <td>0.07</td>\n",
       "      <td>2.2</td>\n",
       "      <td>...</td>\n",
       "      <td>.</td>\n",
       "      <td>.</td>\n",
       "      <td>11 56 17.24 +35 26 53.3</td>\n",
       "      <td>6.82</td>\n",
       "      <td>8.74</td>\n",
       "      <td>%</td>\n",
       "      <td>%</td>\n",
       "      <td>-85.0</td>\n",
       "      <td>-23.0</td>\n",
       "      <td>O</td>\n",
       "    </tr>\n",
       "  </tbody>\n",
       "</table>\n",
       "<p>2 rows × 26 columns</p>\n",
       "</div>"
      ],
      "text/plain": [
       "          wds_id     wds_dd wds_comp   wsi_date wsi_filter  wsi_sep  \\\n",
       "1230  02478+4700  J   882AB       AB  2020.8831          C   4.4171   \n",
       "2632  11563+3527    STT 241       AB  2021.2446          y   1.7945   \n",
       "\n",
       "      wsi_sep_e  wsi_pa  wsi_pa_e  wsi_dm  ...  sb_flg1 sb_flg2  \\\n",
       "1230     0.0164   29.11      0.21     0.7  ...        .       .   \n",
       "2632     0.0023  147.56      0.07     2.2  ...        .       .   \n",
       "\n",
       "                   wds_coord1  wds_mag1 wds_mag2 wds_pm1_ra wds_pm1_dec  \\\n",
       "1230  02 47 49.08 +47 01 18.6       9.8      9.8          %           %   \n",
       "2632  11 56 17.24 +35 26 53.3      6.82     8.74          %           %   \n",
       "\n",
       "     wds_pm2_ra wds_pm2_dec wds_notes  \n",
       "1230       56.0       -25.0            \n",
       "2632      -85.0       -23.0         O  \n",
       "\n",
       "[2 rows x 26 columns]"
      ]
     },
     "execution_count": 13,
     "metadata": {},
     "output_type": "execute_result"
    }
   ],
   "source": [
    "wsi.loc[ wsi.wds_pm1_ra=='%' ]"
   ]
  },
  {
   "cell_type": "markdown",
   "id": "e129641d-017a-445d-9d5d-80bd99f887c5",
   "metadata": {},
   "source": [
    "it's odd that we have a pm for the secondary but not the primary. I'll just drop the target"
   ]
  },
  {
   "cell_type": "code",
   "execution_count": 14,
   "id": "4d3a9e4e-bb6d-4c53-8cc9-769ccdc06e4c",
   "metadata": {},
   "outputs": [],
   "source": [
    "# drop primary with no pm data\n",
    "wsi = wsi.drop( wsi.loc[ wsi['wds_pm1_ra'] == '%' ].index ).reset_index(drop=True)"
   ]
  },
  {
   "cell_type": "code",
   "execution_count": 15,
   "id": "d66ecb3e-57e9-4aa4-8fb1-6737c900028b",
   "metadata": {},
   "outputs": [
    {
     "name": "stdout",
     "output_type": "stream",
     "text": [
      "483\n",
      "483\n"
     ]
    }
   ],
   "source": [
    "# check secondaries\n",
    "# ra and dec counts should match\n",
    "print( list(wsi.wds_pm2_ra).count('%') )\n",
    "print( list(wsi.wds_pm2_dec).count('%') )"
   ]
  },
  {
   "cell_type": "code",
   "execution_count": 16,
   "id": "56af57f8-8cb3-4864-9d5e-457ca6df734d",
   "metadata": {},
   "outputs": [
    {
     "data": {
      "text/plain": [
       "2874"
      ]
     },
     "execution_count": 16,
     "metadata": {},
     "output_type": "execute_result"
    }
   ],
   "source": [
    "# length of wsi\n",
    "len(wsi)"
   ]
  },
  {
   "cell_type": "markdown",
   "id": "c9b97de2-661b-4cdc-8214-415151307815",
   "metadata": {},
   "source": [
    "# Conclusion\n",
    "For the 2874 wsi 2024 targets:\n",
    "* All primaries have magnitudes.\n",
    "* All but one secondaries have magnitudes.\n",
    "* All but two primaries have proper motions.\n",
    "* 483 secondaries do not have proper motions.\n",
    "* 83% of wsi targets have mags and proper motions for primary and secondary stars.\n",
    "\n",
    "This sample does __NOT__ have  targets with a small separation or magnitude > 3 filtered out, which we might need to do to query gaia."
   ]
  },
  {
   "cell_type": "code",
   "execution_count": 17,
   "id": "95863847-f8bb-4a1e-a0cb-a9881a2bb416",
   "metadata": {},
   "outputs": [
    {
     "data": {
      "text/plain": [
       "2868"
      ]
     },
     "execution_count": 17,
     "metadata": {},
     "output_type": "execute_result"
    }
   ],
   "source": [
    "# force mags into float\n",
    "wsi = wsi.astype({'wds_mag1':float, 'wds_mag2':float})\n",
    "\n",
    "# remove targets brighter than mag 3\n",
    "wsi = wsi.loc[ wsi['wds_mag1'] > 3.0 ]\n",
    "wsi = wsi.loc[ wsi['wds_mag2'] > 3.0 ]\n",
    "\n",
    "len(wsi) # check new length"
   ]
  },
  {
   "cell_type": "markdown",
   "id": "026fa4de-39de-4d38-9b1e-2b661d3bf227",
   "metadata": {},
   "source": [
    "# Proper motion and epoch propagation"
   ]
  },
  {
   "cell_type": "code",
   "execution_count": 18,
   "id": "2a596c5a-f277-4499-a99e-0b9f1774cd59",
   "metadata": {},
   "outputs": [],
   "source": [
    "# replace flags\n",
    "wsi = wsi.replace( {'wds_pm2_ra':'%', 'wds_pm2_dec':'%'}, np.nan )\n",
    "\n",
    "# force data types\n",
    "wsi = wsi.astype({'wds_pm1_ra':float, 'wds_pm1_dec':float,\n",
    "                  'wds_pm2_ra':float, 'wds_pm2_dec':float}).reset_index(drop=True)"
   ]
  },
  {
   "cell_type": "code",
   "execution_count": 19,
   "id": "501e8ed1-4621-42f2-9aab-2d8f88470316",
   "metadata": {},
   "outputs": [],
   "source": [
    "flags = []\n",
    "\n",
    "# if the secondary is missing proper motion data, substitute the primary's pm and flag it\n",
    "for i in range( len(wsi) ):\n",
    "\n",
    "    # is the sec pm data a nan?\n",
    "    if math.isnan( wsi.wds_pm2_ra.iloc[i] ):\n",
    "\n",
    "        # substitute primary pm\n",
    "        wsi.at[i, 'wds_pm2_ra']  = wsi.wds_pm1_ra.iloc[i]\n",
    "        wsi.at[i, 'wds_pm2_dec'] = wsi.wds_pm1_dec.iloc[i]\n",
    "        flags.append('!')\n",
    "    \n",
    "    # flag that is has its own pm\n",
    "    else:\n",
    "        flags.append('.')\n",
    "\n",
    "wsi['epoch_prop_flag'] = flags"
   ]
  },
  {
   "cell_type": "markdown",
   "id": "6e438284-bfec-4736-ac2e-1441118edb75",
   "metadata": {},
   "source": [
    "Before calculating total proper motion and propagating the positions, we need to correct the proper motions for the truncated values in the wds."
   ]
  },
  {
   "cell_type": "code",
   "execution_count": 20,
   "id": "9c7fd915-3751-4767-9c0a-929ea6107662",
   "metadata": {},
   "outputs": [],
   "source": [
    "# which indexes have a P flag?\n",
    "P_flag = list( wsi['wds_notes'].str.contains('P') )"
   ]
  },
  {
   "cell_type": "code",
   "execution_count": 21,
   "id": "578978f1-0643-496f-ad02-36ac7ce82651",
   "metadata": {},
   "outputs": [],
   "source": [
    "# correct these proper motions\n",
    "for i in range( len(wsi) ):\n",
    "    if P_flag[i] == True:\n",
    "        wsi.at[i, 'wds_pm1_ra']  = wsi.wds_pm1_ra.iloc[i] * 10\n",
    "        wsi.at[i, 'wds_pm1_dec'] = wsi.wds_pm1_dec.iloc[i] * 10\n",
    "        wsi.at[i, 'wds_pm2_ra']  = wsi.wds_pm2_ra.iloc[i] * 10\n",
    "        wsi.at[i, 'wds_pm2_dec'] = wsi.wds_pm2_dec.iloc[i] * 10"
   ]
  },
  {
   "cell_type": "code",
   "execution_count": 22,
   "id": "d0725a88-8a5b-43f9-bc53-0f388c8e9fab",
   "metadata": {},
   "outputs": [],
   "source": [
    "# calculate total proper motions and add to wsi\n",
    "wsi['wds_pm1'] = total_pm( wsi.wds_pm1_ra, wsi.wds_pm1_dec )\n",
    "wsi['wds_pm2'] = total_pm( wsi.wds_pm2_ra, wsi.wds_pm2_dec )"
   ]
  },
  {
   "cell_type": "code",
   "execution_count": 23,
   "id": "017a44c5-e024-464c-a630-ce96fab68078",
   "metadata": {},
   "outputs": [],
   "source": [
    "# propogate proper motions\n",
    "wsi = wsi_J2016_prop( wsi )"
   ]
  },
  {
   "cell_type": "code",
   "execution_count": 24,
   "id": "2f273f82-5571-4ccc-aeea-e611068596f4",
   "metadata": {},
   "outputs": [],
   "source": [
    "# force data types\n",
    "wsi = wsi.astype({'wds_mag1':float, 'wds_mag2':float,\n",
    "                  'wds_pm1':float, 'wds_pm2':float}).reset_index(drop=True)\n",
    "\n",
    "# wsi.to_csv('data/wsi24.prepped.csv', index=False)"
   ]
  },
  {
   "cell_type": "code",
   "execution_count": 25,
   "id": "6273b8ab-1a3d-42c8-8ce3-6be3b408c57f",
   "metadata": {},
   "outputs": [
    {
     "data": {
      "text/plain": [
       "2868"
      ]
     },
     "execution_count": 25,
     "metadata": {},
     "output_type": "execute_result"
    }
   ],
   "source": [
    "len(wsi)"
   ]
  },
  {
   "cell_type": "code",
   "execution_count": null,
   "id": "9c0a411c-0b74-4213-9dff-2a278875ed56",
   "metadata": {},
   "outputs": [],
   "source": []
  }
 ],
 "metadata": {
  "kernelspec": {
   "display_name": "Python 3 (ipykernel)",
   "language": "python",
   "name": "python3"
  },
  "language_info": {
   "codemirror_mode": {
    "name": "ipython",
    "version": 3
   },
   "file_extension": ".py",
   "mimetype": "text/x-python",
   "name": "python",
   "nbconvert_exporter": "python",
   "pygments_lexer": "ipython3",
   "version": "3.11.7"
  }
 },
 "nbformat": 4,
 "nbformat_minor": 5
}
