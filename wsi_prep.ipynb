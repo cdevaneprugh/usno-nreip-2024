{
 "cells": [
  {
   "cell_type": "code",
   "execution_count": 1,
   "id": "e254cf36-7a35-483d-bab4-c3b89dbfe4c7",
   "metadata": {},
   "outputs": [],
   "source": [
    "import math\n",
    "import warnings\n",
    "import numpy as np\n",
    "import pandas as pd\n",
    "from erfa import ErfaWarning\n",
    "\n",
    "from utils_misc import reduce_targets, compare_targets, show_unique_items\n",
    "from utils_wsi_epoch_prop import wsi_J2016_prop\n",
    "from utils_proper_motion import total_pm\n",
    "\n",
    "warnings.simplefilter(action='ignore', category=FutureWarning)\n",
    "warnings.simplefilter('ignore', category=ErfaWarning)"
   ]
  },
  {
   "cell_type": "markdown",
   "id": "198618ac-036e-4631-ae70-50b069c9805a",
   "metadata": {},
   "source": [
    "# Goal\n",
    "For stars in the WSI:\n",
    "1. How many primaries have mags and proper motions in the wds?\n",
    "2. How many secondaries have mags and proper motions in the wds?\n",
    "3. Propagate positions of stars to J2016 for Gaia query.\n",
    "\n",
    "### A note on column names\n",
    "I've renamed columns in both the wds and wsi to keep better track of which data point belongs to which catalog.\n",
    "\n",
    "Columns in the wds always start with \"wds\". For example, the first few are \"wds_id\", \"wds_dd\", \"wds_comp\", and so on. Similarly, the wsi would be \"wsi_id\", \"wsi_dd\", \"wsi_comp\"..."
   ]
  },
  {
   "cell_type": "code",
   "execution_count": 2,
   "id": "b6aa8b3c-c74f-40ed-90bc-26a5757f20df",
   "metadata": {},
   "outputs": [],
   "source": [
    "# read in data\n",
    "# replace empty coords with AB\n",
    "wsi = pd.read_csv('data/wsi24.sb.csv').replace({'wds_comp':np.NaN},'AB')\n",
    "wds = pd.read_csv('data/wds.summ.csv').replace({'wds_comp':np.NaN},'AB')\n",
    "\n",
    "# flag remaining nans and empty mag measurements to be located ('.' in wds)\n",
    "wds = wds.replace({'wds_notes':np.NaN}, '') # dont flag empty entries in wds notes\n",
    "wds = wds.replace([np.NaN, '.'],'%')\n",
    "\n",
    "# force column data types as needed\n",
    "wsi = wsi.astype( {'wds_id':str, 'wds_comp':str} )\n",
    "wds = wds.astype( {'wds_id':str, 'wds_comp':str, \n",
    "                   'wds_mag1':str, 'wds_mag2':str,\n",
    "                   'wds_coord':str} )"
   ]
  },
  {
   "cell_type": "code",
   "execution_count": 3,
   "id": "27740f2c-8afc-490f-a148-67d0a59133bf",
   "metadata": {},
   "outputs": [],
   "source": [
    "# remove target with no precise coord\n",
    "wsi = wsi.drop(wsi.loc[ wsi.wds_id == '22267+6011' ].index)\n",
    "wds = wds.drop(wds.loc[ wds.wds_id == '22267+6011' ].index)"
   ]
  },
  {
   "cell_type": "code",
   "execution_count": 4,
   "id": "5b114995-7de0-479d-9475-29fc4424a6e3",
   "metadata": {},
   "outputs": [],
   "source": [
    "# filter wsi\n",
    "wsi = wsi.drop( columns=['wsi_ra_deg', 'wsi_dec_deg'] ) # drop RA and Dec columns\n",
    "# wsi = wsi[ wsi['wsi_filter'] == 'y' ] # mask off all filters except y\n",
    "wsi = wsi.loc[ ~wsi['wsi_dm'].isin([0.0,7.5]) ] # mask off any entry with a dm of 0.0 or 7.5 (pipeline error)\n",
    "wsi = wsi.reset_index(drop=True)"
   ]
  },
  {
   "cell_type": "code",
   "execution_count": 5,
   "id": "ecfe8d8c-1d2a-47f1-9348-51950ca77ed0",
   "metadata": {},
   "outputs": [
    {
     "name": "stdout",
     "output_type": "stream",
     "text": [
      "are unique targs the same for wds & wsi? how many are there? (True, 2137)\n",
      "wsi length 2877\n",
      "wds length 3809\n"
     ]
    }
   ],
   "source": [
    "# reduce wds to targets found in wsi\n",
    "wds = reduce_targets(wds, wsi)\n",
    "print( 'are unique targs the same for wds & wsi? how many are there?', compare_targets(wsi, wds) )\n",
    "print( 'wsi length', len(wsi) )\n",
    "print( 'wds length', len(wds) )"
   ]
  },
  {
   "cell_type": "code",
   "execution_count": 6,
   "id": "1ac72f2f-c546-4817-8f24-45c6ce959323",
   "metadata": {},
   "outputs": [
    {
     "data": {
      "text/plain": [
       "1"
      ]
     },
     "execution_count": 6,
     "metadata": {},
     "output_type": "execute_result"
    }
   ],
   "source": [
    "# search for direct comp match between wsi and wds entry\n",
    "# we should find a direct match for each, flag it if we dont\n",
    "comps = []\n",
    "\n",
    "for i, wds_id in enumerate( wsi['wds_id'] ): # loop through wds_ids in our wsi catalog\n",
    "\n",
    "    # define the component for the current entry\n",
    "    component = wsi.wds_comp.iloc[i]\n",
    "    \n",
    "    # find the primary match\n",
    "    match = wds.loc[ (wds['wds_id']==wds_id) & (wds['wds_comp']==component) ]\n",
    "\n",
    "    # try to add the component of the match to the list\n",
    "    try:\n",
    "        comps.append( match.wds_comp.iloc[0] )\n",
    "    except:\n",
    "        comps.append( '%' )\n",
    "\n",
    "# check for number of flagged comps\n",
    "comps.count('%')"
   ]
  },
  {
   "cell_type": "markdown",
   "id": "4a4bf055-6fc2-4224-8a5d-337281fac2ee",
   "metadata": {},
   "source": [
    "there's only one missing. we can index it then look up the target in the wsi and wds to see what going on"
   ]
  },
  {
   "cell_type": "code",
   "execution_count": 7,
   "id": "fc6f7bc3-8bdc-439c-9dc7-122f9f15f6af",
   "metadata": {},
   "outputs": [
    {
     "data": {
      "text/plain": [
       "wds_id                           23228+2034\n",
       "wds_dd                            TOK 704Ba\n",
       "wds_comp                                 Ba\n",
       "wsi_date                          2021.7018\n",
       "wsi_filter                                y\n",
       "wsi_sep                              0.7492\n",
       "wsi_sep_e                            0.0664\n",
       "wsi_pa                               186.34\n",
       "wsi_pa_e                               3.65\n",
       "wsi_dm                                  1.7\n",
       "wsi_dm_e                             0.8753\n",
       "wsi_dm_flag                             NaN\n",
       "wsi_nav                                   3\n",
       "wsi_avg                                   1\n",
       "sb_id1         Gaia DR3 2825753374534824320\n",
       "sb_id2                                  NaN\n",
       "sb_flg1                                   .\n",
       "sb_flg2                                   $\n",
       "Name: 2726, dtype: object"
      ]
     },
     "execution_count": 7,
     "metadata": {},
     "output_type": "execute_result"
    }
   ],
   "source": [
    "# get index for flagged components\n",
    "flagged_index = comps.index('%')\n",
    "\n",
    "# look at the problem entry in the wsi\n",
    "wsi.iloc[ flagged_index ]"
   ]
  },
  {
   "cell_type": "code",
   "execution_count": 8,
   "id": "1dc4b689-a032-461e-ac5c-d17b5fa733ae",
   "metadata": {},
   "outputs": [
    {
     "data": {
      "text/html": [
       "<div>\n",
       "<style scoped>\n",
       "    .dataframe tbody tr th:only-of-type {\n",
       "        vertical-align: middle;\n",
       "    }\n",
       "\n",
       "    .dataframe tbody tr th {\n",
       "        vertical-align: top;\n",
       "    }\n",
       "\n",
       "    .dataframe thead th {\n",
       "        text-align: right;\n",
       "    }\n",
       "</style>\n",
       "<table border=\"1\" class=\"dataframe\">\n",
       "  <thead>\n",
       "    <tr style=\"text-align: right;\">\n",
       "      <th></th>\n",
       "      <th>wds_id</th>\n",
       "      <th>wds_dd</th>\n",
       "      <th>wds_comp</th>\n",
       "      <th>wds_date_first</th>\n",
       "      <th>wds_date_last</th>\n",
       "      <th>wds_num_obs</th>\n",
       "      <th>wds_pa_first</th>\n",
       "      <th>wds_pa_last</th>\n",
       "      <th>wds_sep_first</th>\n",
       "      <th>wds_sep_last</th>\n",
       "      <th>wds_mag1</th>\n",
       "      <th>wds_mag2</th>\n",
       "      <th>wds_spt</th>\n",
       "      <th>wds_pm1_ra</th>\n",
       "      <th>wds_pm1_dec</th>\n",
       "      <th>wds_pm2_ra</th>\n",
       "      <th>wds_pm2_dec</th>\n",
       "      <th>wds_durch_num</th>\n",
       "      <th>wds_notes</th>\n",
       "      <th>wds_coord</th>\n",
       "    </tr>\n",
       "  </thead>\n",
       "  <tbody>\n",
       "    <tr>\n",
       "      <th>3708</th>\n",
       "      <td>23228+2034</td>\n",
       "      <td>STF3007</td>\n",
       "      <td>AB</td>\n",
       "      <td>1829</td>\n",
       "      <td>2022</td>\n",
       "      <td>284</td>\n",
       "      <td>79</td>\n",
       "      <td>92</td>\n",
       "      <td>5.7</td>\n",
       "      <td>5.9</td>\n",
       "      <td>6.74</td>\n",
       "      <td>9.78</td>\n",
       "      <td>G2V+dK6</td>\n",
       "      <td>313.0</td>\n",
       "      <td>-12.0</td>\n",
       "      <td>315.0</td>\n",
       "      <td>-11.0</td>\n",
       "      <td>+19 5093</td>\n",
       "      <td>NO</td>\n",
       "      <td>23 22 48.67 +20 33 32.2</td>\n",
       "    </tr>\n",
       "    <tr>\n",
       "      <th>3709</th>\n",
       "      <td>23228+2034</td>\n",
       "      <td>STF3007</td>\n",
       "      <td>AC</td>\n",
       "      <td>1887</td>\n",
       "      <td>2017</td>\n",
       "      <td>23</td>\n",
       "      <td>323</td>\n",
       "      <td>305</td>\n",
       "      <td>74.3</td>\n",
       "      <td>103.8</td>\n",
       "      <td>6.74</td>\n",
       "      <td>10.86</td>\n",
       "      <td>G2V</td>\n",
       "      <td>315.0</td>\n",
       "      <td>-11.0</td>\n",
       "      <td>4.0</td>\n",
       "      <td>-7.0</td>\n",
       "      <td>%</td>\n",
       "      <td>NL U</td>\n",
       "      <td>23 22 48.67 +20 33 32.2</td>\n",
       "    </tr>\n",
       "    <tr>\n",
       "      <th>3710</th>\n",
       "      <td>23228+2034</td>\n",
       "      <td>TOK 704</td>\n",
       "      <td>Ba,Bb</td>\n",
       "      <td>2015</td>\n",
       "      <td>2021</td>\n",
       "      <td>6</td>\n",
       "      <td>181</td>\n",
       "      <td>187</td>\n",
       "      <td>0.7</td>\n",
       "      <td>0.8</td>\n",
       "      <td>6.4</td>\n",
       "      <td>8.4</td>\n",
       "      <td>dK6</td>\n",
       "      <td>315.0</td>\n",
       "      <td>-11.0</td>\n",
       "      <td>%</td>\n",
       "      <td>%</td>\n",
       "      <td>%</td>\n",
       "      <td>NO R</td>\n",
       "      <td>23 22 49.08 +20 33 32.1</td>\n",
       "    </tr>\n",
       "  </tbody>\n",
       "</table>\n",
       "</div>"
      ],
      "text/plain": [
       "          wds_id   wds_dd wds_comp  wds_date_first  wds_date_last  \\\n",
       "3708  23228+2034  STF3007       AB            1829           2022   \n",
       "3709  23228+2034  STF3007       AC            1887           2017   \n",
       "3710  23228+2034  TOK 704    Ba,Bb            2015           2021   \n",
       "\n",
       "      wds_num_obs  wds_pa_first  wds_pa_last  wds_sep_first  wds_sep_last  \\\n",
       "3708          284            79           92            5.7           5.9   \n",
       "3709           23           323          305           74.3         103.8   \n",
       "3710            6           181          187            0.7           0.8   \n",
       "\n",
       "     wds_mag1 wds_mag2  wds_spt wds_pm1_ra wds_pm1_dec wds_pm2_ra wds_pm2_dec  \\\n",
       "3708     6.74     9.78  G2V+dK6      313.0       -12.0      315.0       -11.0   \n",
       "3709     6.74    10.86      G2V      315.0       -11.0        4.0        -7.0   \n",
       "3710      6.4      8.4      dK6      315.0       -11.0          %           %   \n",
       "\n",
       "     wds_durch_num wds_notes                wds_coord  \n",
       "3708      +19 5093        NO  23 22 48.67 +20 33 32.2  \n",
       "3709             %      NL U  23 22 48.67 +20 33 32.2  \n",
       "3710             %      NO R  23 22 49.08 +20 33 32.1  "
      ]
     },
     "execution_count": 8,
     "metadata": {},
     "output_type": "execute_result"
    }
   ],
   "source": [
    "# look up this target in the wds\n",
    "wds.loc[wds.wds_id=='23228+2034']"
   ]
  },
  {
   "cell_type": "markdown",
   "id": "66a9000d-671c-4582-ad00-fd4ebfd501d1",
   "metadata": {},
   "source": [
    "it looks like the component in the wsi got missnamed to just Ba\n",
    "\n",
    "the wds entry with component Ba,Bb is the correct match to our problem target. we can jut manually fix this then rerun the comp check"
   ]
  },
  {
   "cell_type": "code",
   "execution_count": 9,
   "id": "b2a51ea4-23e8-4116-b9ca-2a18b8f8800d",
   "metadata": {},
   "outputs": [],
   "source": [
    "# fix entry in wsi\n",
    "wsi.iat[flagged_index, 2] = 'Ba,Bb'"
   ]
  },
  {
   "cell_type": "code",
   "execution_count": 10,
   "id": "aa5b9cec-ef76-4257-a472-04a2af43de6b",
   "metadata": {},
   "outputs": [
    {
     "data": {
      "text/plain": [
       "0"
      ]
     },
     "execution_count": 10,
     "metadata": {},
     "output_type": "execute_result"
    }
   ],
   "source": [
    "# rerun component check\n",
    "ids = []\n",
    "comps = []\n",
    "for i, wds_id in enumerate( wsi['wds_id'] ): # loop through wds_ids in our wsi catalog\n",
    "    component = wsi.wds_comp.iloc[i]\n",
    "    match = wds.loc[ (wds['wds_id']==wds_id) & (wds['wds_comp']==component) ]\n",
    "    try:\n",
    "        ids.append( match.wds_id.iloc[0] )\n",
    "        comps.append( match.wds_comp.iloc[0] )\n",
    "    except:\n",
    "        ids.append( '%' )\n",
    "        comps.append( '%' )\n",
    "\n",
    "# check for flagged comps\n",
    "comps.count('%')"
   ]
  },
  {
   "cell_type": "markdown",
   "id": "9e6d14b4-3509-469a-b2f6-4a0f3ee5c379",
   "metadata": {},
   "source": [
    "everything looks good, just make sure the ids and comps pulled match (in order) the ids and comps in the wsi"
   ]
  },
  {
   "cell_type": "code",
   "execution_count": 11,
   "id": "120772f6-4031-4129-81e1-fb3dba5435ec",
   "metadata": {},
   "outputs": [
    {
     "name": "stdout",
     "output_type": "stream",
     "text": [
      "ids match? True\n",
      "comps match? True\n"
     ]
    }
   ],
   "source": [
    "print( 'ids match?', ids == list(wsi.wds_id) )\n",
    "print( 'comps match?', comps == list(wsi.wds_comp) )"
   ]
  },
  {
   "cell_type": "markdown",
   "id": "af386438-0cd8-4b6f-9f95-143c78ddf1f0",
   "metadata": {},
   "source": [
    "now we can loop through the wsi, (knowing we get a component match for each observation) and add data from the wds to the wsi.\n",
    "\n",
    "every observation will have a precise coordinate for the primary. They also _should_ have a mag and pm for the primary. we'll see how many secondaries have mags and pms"
   ]
  },
  {
   "cell_type": "code",
   "execution_count": 12,
   "id": "e2aa04ec-a227-4527-a1de-d7a6cfa1b8ac",
   "metadata": {},
   "outputs": [],
   "source": [
    "primary_coords = []\n",
    "primary_mags = []\n",
    "secondary_mags = []\n",
    "primary_pms_ra = []\n",
    "primary_pms_dec = []\n",
    "secondary_pms_ra = []\n",
    "secondary_pms_dec = []\n",
    "wds_notes = []\n",
    "\n",
    "for i, wds_id in enumerate( wsi['wds_id'] ): # loop through wds_ids in our wsi catalog\n",
    "\n",
    "    # define component for current entry\n",
    "    component = wsi.wds_comp.iloc[i]\n",
    "\n",
    "    # find match based on current wds id and component\n",
    "    match = wds.loc[ (wds['wds_id']==wds_id) & (wds['wds_comp']==component) ]\n",
    "\n",
    "    # add precise primary coordinate\n",
    "    primary_coords.append( match.wds_coord.iloc[0] )\n",
    "\n",
    "    # add primary mag\n",
    "    primary_mags.append( match.wds_mag1.iloc[0] )\n",
    "\n",
    "    # add secondary mag\n",
    "    secondary_mags.append( match.wds_mag2.iloc[0] )\n",
    "\n",
    "    # add primary pms\n",
    "    primary_pms_ra.append( match.wds_pm1_ra.iloc[0]  )\n",
    "    primary_pms_dec.append( match.wds_pm1_dec.iloc[0] )\n",
    "    \n",
    "    # add secondary pms\n",
    "    secondary_pms_ra.append( match.wds_pm2_ra.iloc[0] )\n",
    "    secondary_pms_dec.append( match.wds_pm2_dec.iloc[0] )\n",
    "\n",
    "    # add notes\n",
    "    wds_notes.append( match.wds_notes.iloc[0] )\n",
    "\n",
    "# add the lists to the wsi dataframe\n",
    "wsi['wds_coord1'] = primary_coords\n",
    "wsi['wds_mag1'] = primary_mags\n",
    "wsi['wds_mag2'] = secondary_mags\n",
    "wsi['wds_pm1_ra'] = primary_pms_ra\n",
    "wsi['wds_pm1_dec'] = primary_pms_dec\n",
    "wsi['wds_pm2_ra'] = secondary_pms_ra\n",
    "wsi['wds_pm2_dec'] = secondary_pms_dec\n",
    "wsi['wds_notes'] = wds_notes"
   ]
  },
  {
   "cell_type": "code",
   "execution_count": 13,
   "id": "db9d9888-e31f-48dd-b942-32b5576decce",
   "metadata": {},
   "outputs": [
    {
     "name": "stdout",
     "output_type": "stream",
     "text": [
      "18124-0718 : 18 12 24.02 -07 17 49.1\n",
      "13203+6938 : 13 20 15.93 +69 38 08.3\n"
     ]
    }
   ],
   "source": [
    "# sanity check: compare the wds ids to the precise coordinates we just added\n",
    "# the wds id should be a rounded version of the precise coords\n",
    "print( wsi.wds_id.iloc[0], ':', wsi.wds_coord1.iloc[0] )\n",
    "print( wsi.wds_id.iloc[-1], ':', wsi.wds_coord1.iloc[-1] )"
   ]
  },
  {
   "cell_type": "markdown",
   "id": "e6a2deab-3412-4d24-a866-2b835fb1b2a1",
   "metadata": {},
   "source": [
    "now we can check for any missing mags and proper motions for the primaries and secondaries"
   ]
  },
  {
   "cell_type": "code",
   "execution_count": 14,
   "id": "f570fa90-ab8a-4640-9be4-c76458faa1ba",
   "metadata": {},
   "outputs": [
    {
     "data": {
      "text/plain": [
       "0"
      ]
     },
     "execution_count": 14,
     "metadata": {},
     "output_type": "execute_result"
    }
   ],
   "source": [
    "# are we missing any primary mags?\n",
    "list(wsi.wds_mag1).count('%')"
   ]
  },
  {
   "cell_type": "markdown",
   "id": "4c3ce0de-e402-4b2d-9d06-de1848f9cae1",
   "metadata": {},
   "source": [
    "all there. now we'll try secondaries"
   ]
  },
  {
   "cell_type": "code",
   "execution_count": 15,
   "id": "bdbd5d03-f27f-42ab-bde1-7c0473bea7c0",
   "metadata": {},
   "outputs": [
    {
     "data": {
      "text/plain": [
       "1"
      ]
     },
     "execution_count": 15,
     "metadata": {},
     "output_type": "execute_result"
    }
   ],
   "source": [
    "# are we missing any secondary mags?\n",
    "list(wsi.wds_mag2).count('%')"
   ]
  },
  {
   "cell_type": "markdown",
   "id": "9fd792a3-754f-4d2a-bd23-1619bc94cc17",
   "metadata": {},
   "source": [
    "we're missing one secondary mag. lets just get rid of that entry so it doesn't give us issues later"
   ]
  },
  {
   "cell_type": "code",
   "execution_count": 16,
   "id": "9373340b-01a3-4fc9-b0a3-e461fc7f7de2",
   "metadata": {},
   "outputs": [],
   "source": [
    "# drop row with missing secondary mag\n",
    "wsi = wsi.drop( wsi.loc[ wsi['wds_mag2'] == '%' ].index ).reset_index(drop=True)"
   ]
  },
  {
   "cell_type": "markdown",
   "id": "d8e90c9b-2d0a-4ef5-8a7d-3237e10b821c",
   "metadata": {},
   "source": [
    "now lets check proper motions for the primary and secondary"
   ]
  },
  {
   "cell_type": "code",
   "execution_count": 17,
   "id": "75e906cc-687f-46fb-862f-0febbcfc0c3b",
   "metadata": {},
   "outputs": [
    {
     "name": "stdout",
     "output_type": "stream",
     "text": [
      "2\n",
      "2\n"
     ]
    }
   ],
   "source": [
    "# check primaries\n",
    "print( list(wsi.wds_pm1_ra).count('%') )\n",
    "print( list(wsi.wds_pm1_dec).count('%') )"
   ]
  },
  {
   "cell_type": "code",
   "execution_count": 18,
   "id": "6612ed67-9f7d-49bb-a274-2af808d49c60",
   "metadata": {},
   "outputs": [
    {
     "data": {
      "text/html": [
       "<div>\n",
       "<style scoped>\n",
       "    .dataframe tbody tr th:only-of-type {\n",
       "        vertical-align: middle;\n",
       "    }\n",
       "\n",
       "    .dataframe tbody tr th {\n",
       "        vertical-align: top;\n",
       "    }\n",
       "\n",
       "    .dataframe thead th {\n",
       "        text-align: right;\n",
       "    }\n",
       "</style>\n",
       "<table border=\"1\" class=\"dataframe\">\n",
       "  <thead>\n",
       "    <tr style=\"text-align: right;\">\n",
       "      <th></th>\n",
       "      <th>wds_id</th>\n",
       "      <th>wds_dd</th>\n",
       "      <th>wds_comp</th>\n",
       "      <th>wsi_date</th>\n",
       "      <th>wsi_filter</th>\n",
       "      <th>wsi_sep</th>\n",
       "      <th>wsi_sep_e</th>\n",
       "      <th>wsi_pa</th>\n",
       "      <th>wsi_pa_e</th>\n",
       "      <th>wsi_dm</th>\n",
       "      <th>...</th>\n",
       "      <th>sb_flg1</th>\n",
       "      <th>sb_flg2</th>\n",
       "      <th>wds_coord1</th>\n",
       "      <th>wds_mag1</th>\n",
       "      <th>wds_mag2</th>\n",
       "      <th>wds_pm1_ra</th>\n",
       "      <th>wds_pm1_dec</th>\n",
       "      <th>wds_pm2_ra</th>\n",
       "      <th>wds_pm2_dec</th>\n",
       "      <th>wds_notes</th>\n",
       "    </tr>\n",
       "  </thead>\n",
       "  <tbody>\n",
       "    <tr>\n",
       "      <th>1230</th>\n",
       "      <td>02478+4700</td>\n",
       "      <td>J   882AB</td>\n",
       "      <td>AB</td>\n",
       "      <td>2020.8831</td>\n",
       "      <td>C</td>\n",
       "      <td>4.4171</td>\n",
       "      <td>0.0164</td>\n",
       "      <td>29.11</td>\n",
       "      <td>0.21</td>\n",
       "      <td>0.7</td>\n",
       "      <td>...</td>\n",
       "      <td>.</td>\n",
       "      <td>.</td>\n",
       "      <td>02 47 49.08 +47 01 18.6</td>\n",
       "      <td>9.8</td>\n",
       "      <td>9.8</td>\n",
       "      <td>%</td>\n",
       "      <td>%</td>\n",
       "      <td>56.0</td>\n",
       "      <td>-25.0</td>\n",
       "      <td></td>\n",
       "    </tr>\n",
       "    <tr>\n",
       "      <th>2632</th>\n",
       "      <td>11563+3527</td>\n",
       "      <td>STT 241</td>\n",
       "      <td>AB</td>\n",
       "      <td>2021.2446</td>\n",
       "      <td>y</td>\n",
       "      <td>1.7945</td>\n",
       "      <td>0.0023</td>\n",
       "      <td>147.56</td>\n",
       "      <td>0.07</td>\n",
       "      <td>2.2</td>\n",
       "      <td>...</td>\n",
       "      <td>.</td>\n",
       "      <td>.</td>\n",
       "      <td>11 56 17.24 +35 26 53.3</td>\n",
       "      <td>6.82</td>\n",
       "      <td>8.74</td>\n",
       "      <td>%</td>\n",
       "      <td>%</td>\n",
       "      <td>-85.0</td>\n",
       "      <td>-23.0</td>\n",
       "      <td>O</td>\n",
       "    </tr>\n",
       "  </tbody>\n",
       "</table>\n",
       "<p>2 rows × 26 columns</p>\n",
       "</div>"
      ],
      "text/plain": [
       "          wds_id     wds_dd wds_comp   wsi_date wsi_filter  wsi_sep  \\\n",
       "1230  02478+4700  J   882AB       AB  2020.8831          C   4.4171   \n",
       "2632  11563+3527    STT 241       AB  2021.2446          y   1.7945   \n",
       "\n",
       "      wsi_sep_e  wsi_pa  wsi_pa_e  wsi_dm  ...  sb_flg1 sb_flg2  \\\n",
       "1230     0.0164   29.11      0.21     0.7  ...        .       .   \n",
       "2632     0.0023  147.56      0.07     2.2  ...        .       .   \n",
       "\n",
       "                   wds_coord1  wds_mag1 wds_mag2 wds_pm1_ra wds_pm1_dec  \\\n",
       "1230  02 47 49.08 +47 01 18.6       9.8      9.8          %           %   \n",
       "2632  11 56 17.24 +35 26 53.3      6.82     8.74          %           %   \n",
       "\n",
       "     wds_pm2_ra wds_pm2_dec wds_notes  \n",
       "1230       56.0       -25.0            \n",
       "2632      -85.0       -23.0         O  \n",
       "\n",
       "[2 rows x 26 columns]"
      ]
     },
     "execution_count": 18,
     "metadata": {},
     "output_type": "execute_result"
    }
   ],
   "source": [
    "wsi.loc[ wsi.wds_pm1_ra=='%' ]"
   ]
  },
  {
   "cell_type": "markdown",
   "id": "e129641d-017a-445d-9d5d-80bd99f887c5",
   "metadata": {},
   "source": [
    "it's odd that we have a pm for the secondary but not the primary. I'll just drop the target"
   ]
  },
  {
   "cell_type": "code",
   "execution_count": 19,
   "id": "4d3a9e4e-bb6d-4c53-8cc9-769ccdc06e4c",
   "metadata": {},
   "outputs": [],
   "source": [
    "# drop primary with no pm data\n",
    "wsi = wsi.drop( wsi.loc[ wsi['wds_pm1_ra'] == '%' ].index ).reset_index(drop=True)"
   ]
  },
  {
   "cell_type": "code",
   "execution_count": 20,
   "id": "d66ecb3e-57e9-4aa4-8fb1-6737c900028b",
   "metadata": {},
   "outputs": [
    {
     "name": "stdout",
     "output_type": "stream",
     "text": [
      "483\n",
      "483\n"
     ]
    }
   ],
   "source": [
    "# check secondaries\n",
    "# ra and dec counts should match\n",
    "print( list(wsi.wds_pm2_ra).count('%') )\n",
    "print( list(wsi.wds_pm2_dec).count('%') )"
   ]
  },
  {
   "cell_type": "code",
   "execution_count": 21,
   "id": "56af57f8-8cb3-4864-9d5e-457ca6df734d",
   "metadata": {},
   "outputs": [
    {
     "data": {
      "text/plain": [
       "2874"
      ]
     },
     "execution_count": 21,
     "metadata": {},
     "output_type": "execute_result"
    }
   ],
   "source": [
    "# length of wsi\n",
    "len(wsi)"
   ]
  },
  {
   "cell_type": "markdown",
   "id": "c9b97de2-661b-4cdc-8214-415151307815",
   "metadata": {},
   "source": [
    "# Conclusion\n",
    "For the 2874 wsi 2024 targets:\n",
    "* All primaries have magnitudes.\n",
    "* All but one secondaries have magnitudes.\n",
    "* All but two primaries have proper motions.\n",
    "* 483 secondaries do not have proper motions.\n",
    "* 83% of wsi targets have mags and proper motions for primary and secondary stars.\n",
    "\n",
    "This sample does __NOT__ have  targets with a small separation or magnitude > 3 filtered out, which we might need to do to query gaia."
   ]
  },
  {
   "cell_type": "code",
   "execution_count": 22,
   "id": "95863847-f8bb-4a1e-a0cb-a9881a2bb416",
   "metadata": {},
   "outputs": [
    {
     "data": {
      "text/plain": [
       "2868"
      ]
     },
     "execution_count": 22,
     "metadata": {},
     "output_type": "execute_result"
    }
   ],
   "source": [
    "# force mags into float\n",
    "wsi = wsi.astype({'wds_mag1':float, 'wds_mag2':float})\n",
    "\n",
    "# remove targets brighter than mag 3\n",
    "wsi = wsi.loc[ wsi['wds_mag1'] > 3.0 ]\n",
    "wsi = wsi.loc[ wsi['wds_mag2'] > 3.0 ]\n",
    "\n",
    "len(wsi) # check new length"
   ]
  },
  {
   "cell_type": "markdown",
   "id": "026fa4de-39de-4d38-9b1e-2b661d3bf227",
   "metadata": {},
   "source": [
    "# Proper motion and epoch propagation"
   ]
  },
  {
   "cell_type": "code",
   "execution_count": 23,
   "id": "2a596c5a-f277-4499-a99e-0b9f1774cd59",
   "metadata": {},
   "outputs": [],
   "source": [
    "# replace flags\n",
    "wsi = wsi.replace( {'wds_pm2_ra':'%', 'wds_pm2_dec':'%'}, np.nan )\n",
    "\n",
    "# force data types\n",
    "wsi = wsi.astype({'wds_pm1_ra':float, 'wds_pm1_dec':float,\n",
    "                  'wds_pm2_ra':float, 'wds_pm2_dec':float}).reset_index(drop=True)"
   ]
  },
  {
   "cell_type": "code",
   "execution_count": 24,
   "id": "501e8ed1-4621-42f2-9aab-2d8f88470316",
   "metadata": {},
   "outputs": [],
   "source": [
    "flags = []\n",
    "\n",
    "# if the secondary is missing proper motion data, substitute the primary's pm and flag it\n",
    "for i in range( len(wsi) ):\n",
    "\n",
    "    # is the sec pm data a nan?\n",
    "    if math.isnan( wsi.wds_pm2_ra.iloc[i] ):\n",
    "\n",
    "        # substitute primary pm\n",
    "        wsi.at[i, 'wds_pm2_ra']  = wsi.wds_pm1_ra.iloc[i]\n",
    "        wsi.at[i, 'wds_pm2_dec'] = wsi.wds_pm1_dec.iloc[i]\n",
    "        flags.append('!')\n",
    "    \n",
    "    # flag that is has its own pm\n",
    "    else:\n",
    "        flags.append('.')\n",
    "\n",
    "wsi['epoch_prop_flag'] = flags"
   ]
  },
  {
   "cell_type": "markdown",
   "id": "4ff34393-a3b8-4594-a415-1adac6dbc866",
   "metadata": {},
   "source": [
    "of the secondaries that do not have their own proper motion, are any flagged as not physically associated?"
   ]
  },
  {
   "cell_type": "code",
   "execution_count": 25,
   "id": "e514e892-0ec7-4a08-b9cd-3dba8588a647",
   "metadata": {},
   "outputs": [
    {
     "name": "stdout",
     "output_type": "stream",
     "text": [
      " : 225\n",
      "L : 1\n",
      "N : 53\n",
      "N  B : 1\n",
      "N W : 1\n",
      "NC : 3\n",
      "NL : 2\n",
      "NL U : 1\n",
      "NO : 131\n",
      "NO P : 2\n",
      "NO R : 2\n",
      "NOW : 1\n",
      "NU : 3\n",
      "NV : 7\n",
      "NV U : 1\n",
      "O : 39\n",
      "O P : 2\n",
      "T : 1\n",
      "V : 3\n",
      "W : 4\n"
     ]
    }
   ],
   "source": [
    "show_unique_items( wsi.loc[wsi.epoch_prop_flag=='!'].wds_notes )"
   ]
  },
  {
   "cell_type": "markdown",
   "id": "6e438284-bfec-4736-ac2e-1441118edb75",
   "metadata": {},
   "source": [
    "Before calculating total proper motion and propagating the positions, we need to correct the proper motions for the truncated values in the wds."
   ]
  },
  {
   "cell_type": "code",
   "execution_count": 26,
   "id": "9c7fd915-3751-4767-9c0a-929ea6107662",
   "metadata": {},
   "outputs": [],
   "source": [
    "# which indexes have a P flag?\n",
    "P_flag = list( wsi['wds_notes'].str.contains('P') )"
   ]
  },
  {
   "cell_type": "code",
   "execution_count": 27,
   "id": "578978f1-0643-496f-ad02-36ac7ce82651",
   "metadata": {},
   "outputs": [],
   "source": [
    "# correct these proper motions\n",
    "for i in range( len(wsi) ):\n",
    "    if P_flag[i] == True:\n",
    "        wsi.at[i, 'wds_pm1_ra']  = wsi.wds_pm1_ra.iloc[i] * 10\n",
    "        wsi.at[i, 'wds_pm1_dec'] = wsi.wds_pm1_dec.iloc[i] * 10\n",
    "        wsi.at[i, 'wds_pm2_ra']  = wsi.wds_pm2_ra.iloc[i] * 10\n",
    "        wsi.at[i, 'wds_pm2_dec'] = wsi.wds_pm2_dec.iloc[i] * 10"
   ]
  },
  {
   "cell_type": "code",
   "execution_count": 28,
   "id": "d0725a88-8a5b-43f9-bc53-0f388c8e9fab",
   "metadata": {},
   "outputs": [],
   "source": [
    "# calculate total proper motions and add to wsi\n",
    "wsi['wds_pm1'] = total_pm( wsi.wds_pm1_ra, wsi.wds_pm1_dec )\n",
    "wsi['wds_pm2'] = total_pm( wsi.wds_pm2_ra, wsi.wds_pm2_dec )"
   ]
  },
  {
   "cell_type": "code",
   "execution_count": 29,
   "id": "017a44c5-e024-464c-a630-ce96fab68078",
   "metadata": {},
   "outputs": [],
   "source": [
    "# propogate proper motions\n",
    "wsi = wsi_J2016_prop( wsi )"
   ]
  },
  {
   "cell_type": "code",
   "execution_count": 30,
   "id": "2f273f82-5571-4ccc-aeea-e611068596f4",
   "metadata": {},
   "outputs": [],
   "source": [
    "# force data types\n",
    "wsi = wsi.astype({'wds_mag1':float, 'wds_mag2':float,\n",
    "                  'wds_pm1':float, 'wds_pm2':float}).reset_index(drop=True)\n",
    "\n",
    "wsi.to_csv('data/wsi24.sb.prop.csv', index=False)"
   ]
  },
  {
   "cell_type": "code",
   "execution_count": 31,
   "id": "69894609-7b4b-4a30-85f7-68663e5b1491",
   "metadata": {},
   "outputs": [
    {
     "data": {
      "text/html": [
       "<div>\n",
       "<style scoped>\n",
       "    .dataframe tbody tr th:only-of-type {\n",
       "        vertical-align: middle;\n",
       "    }\n",
       "\n",
       "    .dataframe tbody tr th {\n",
       "        vertical-align: top;\n",
       "    }\n",
       "\n",
       "    .dataframe thead th {\n",
       "        text-align: right;\n",
       "    }\n",
       "</style>\n",
       "<table border=\"1\" class=\"dataframe\">\n",
       "  <thead>\n",
       "    <tr style=\"text-align: right;\">\n",
       "      <th></th>\n",
       "      <th>wds_id</th>\n",
       "      <th>wds_dd</th>\n",
       "      <th>wds_comp</th>\n",
       "      <th>wsi_date</th>\n",
       "      <th>wsi_filter</th>\n",
       "      <th>wsi_sep</th>\n",
       "      <th>wsi_sep_e</th>\n",
       "      <th>wsi_pa</th>\n",
       "      <th>wsi_pa_e</th>\n",
       "      <th>wsi_dm</th>\n",
       "      <th>...</th>\n",
       "      <th>wds_pm1</th>\n",
       "      <th>wds_pm2</th>\n",
       "      <th>wds_ra1_J2000</th>\n",
       "      <th>wds_dec1_J2000</th>\n",
       "      <th>wds_ra2_J2000</th>\n",
       "      <th>wds_dec2_J2000</th>\n",
       "      <th>wds_ra1_J2016</th>\n",
       "      <th>wds_dec1_J2016</th>\n",
       "      <th>wds_ra2_J2016</th>\n",
       "      <th>wds_dec2_J2016</th>\n",
       "    </tr>\n",
       "  </thead>\n",
       "  <tbody>\n",
       "    <tr>\n",
       "      <th>0</th>\n",
       "      <td>18124-0718</td>\n",
       "      <td>A    36A,BC</td>\n",
       "      <td>A,BC</td>\n",
       "      <td>2020.5356</td>\n",
       "      <td>V</td>\n",
       "      <td>71.2909</td>\n",
       "      <td>0.0207</td>\n",
       "      <td>39.00</td>\n",
       "      <td>0.02</td>\n",
       "      <td>5.6</td>\n",
       "      <td>...</td>\n",
       "      <td>54.626001</td>\n",
       "      <td>15.264338</td>\n",
       "      <td>273.100083</td>\n",
       "      <td>-7.296972</td>\n",
       "      <td>273.112647</td>\n",
       "      <td>-7.281582</td>\n",
       "      <td>273.099985</td>\n",
       "      <td>-7.297194</td>\n",
       "      <td>273.112589</td>\n",
       "      <td>-7.281547</td>\n",
       "    </tr>\n",
       "    <tr>\n",
       "      <th>1</th>\n",
       "      <td>18124-0718</td>\n",
       "      <td>A    36A,BC</td>\n",
       "      <td>A,BC</td>\n",
       "      <td>2020.5356</td>\n",
       "      <td>y</td>\n",
       "      <td>71.1704</td>\n",
       "      <td>0.0264</td>\n",
       "      <td>38.95</td>\n",
       "      <td>0.02</td>\n",
       "      <td>5.5</td>\n",
       "      <td>...</td>\n",
       "      <td>54.626001</td>\n",
       "      <td>15.264338</td>\n",
       "      <td>273.100083</td>\n",
       "      <td>-7.296972</td>\n",
       "      <td>273.112612</td>\n",
       "      <td>-7.281597</td>\n",
       "      <td>273.099985</td>\n",
       "      <td>-7.297194</td>\n",
       "      <td>273.112554</td>\n",
       "      <td>-7.281562</td>\n",
       "    </tr>\n",
       "    <tr>\n",
       "      <th>2</th>\n",
       "      <td>05192-0304</td>\n",
       "      <td>A    53AB</td>\n",
       "      <td>AB</td>\n",
       "      <td>2022.0851</td>\n",
       "      <td>y</td>\n",
       "      <td>1.6830</td>\n",
       "      <td>0.0164</td>\n",
       "      <td>294.29</td>\n",
       "      <td>0.58</td>\n",
       "      <td>3.4</td>\n",
       "      <td>...</td>\n",
       "      <td>713.473195</td>\n",
       "      <td>660.461960</td>\n",
       "      <td>79.802750</td>\n",
       "      <td>-3.073806</td>\n",
       "      <td>79.802323</td>\n",
       "      <td>-3.073613</td>\n",
       "      <td>79.805866</td>\n",
       "      <td>-3.073192</td>\n",
       "      <td>79.805230</td>\n",
       "      <td>-3.073173</td>\n",
       "    </tr>\n",
       "    <tr>\n",
       "      <th>3</th>\n",
       "      <td>06486-0405</td>\n",
       "      <td>A    58AB</td>\n",
       "      <td>AB</td>\n",
       "      <td>2021.1702</td>\n",
       "      <td>y</td>\n",
       "      <td>5.0778</td>\n",
       "      <td>0.0023</td>\n",
       "      <td>161.43</td>\n",
       "      <td>0.03</td>\n",
       "      <td>1.3</td>\n",
       "      <td>...</td>\n",
       "      <td>94.667840</td>\n",
       "      <td>94.667840</td>\n",
       "      <td>102.149083</td>\n",
       "      <td>-4.075722</td>\n",
       "      <td>102.149534</td>\n",
       "      <td>-4.077059</td>\n",
       "      <td>102.148865</td>\n",
       "      <td>-4.076082</td>\n",
       "      <td>102.149315</td>\n",
       "      <td>-4.077419</td>\n",
       "    </tr>\n",
       "    <tr>\n",
       "      <th>4</th>\n",
       "      <td>05424+1259</td>\n",
       "      <td>A   116</td>\n",
       "      <td>AB</td>\n",
       "      <td>2022.1066</td>\n",
       "      <td>y</td>\n",
       "      <td>1.6954</td>\n",
       "      <td>0.0136</td>\n",
       "      <td>291.63</td>\n",
       "      <td>0.46</td>\n",
       "      <td>3.2</td>\n",
       "      <td>...</td>\n",
       "      <td>10.630146</td>\n",
       "      <td>10.630146</td>\n",
       "      <td>85.593958</td>\n",
       "      <td>12.977944</td>\n",
       "      <td>85.593509</td>\n",
       "      <td>12.978118</td>\n",
       "      <td>85.593922</td>\n",
       "      <td>12.977913</td>\n",
       "      <td>85.593473</td>\n",
       "      <td>12.978087</td>\n",
       "    </tr>\n",
       "    <tr>\n",
       "      <th>...</th>\n",
       "      <td>...</td>\n",
       "      <td>...</td>\n",
       "      <td>...</td>\n",
       "      <td>...</td>\n",
       "      <td>...</td>\n",
       "      <td>...</td>\n",
       "      <td>...</td>\n",
       "      <td>...</td>\n",
       "      <td>...</td>\n",
       "      <td>...</td>\n",
       "      <td>...</td>\n",
       "      <td>...</td>\n",
       "      <td>...</td>\n",
       "      <td>...</td>\n",
       "      <td>...</td>\n",
       "      <td>...</td>\n",
       "      <td>...</td>\n",
       "      <td>...</td>\n",
       "      <td>...</td>\n",
       "      <td>...</td>\n",
       "      <td>...</td>\n",
       "    </tr>\n",
       "    <tr>\n",
       "      <th>2863</th>\n",
       "      <td>08364+6718</td>\n",
       "      <td>YR   13</td>\n",
       "      <td>AB</td>\n",
       "      <td>2022.2191</td>\n",
       "      <td>y</td>\n",
       "      <td>0.5926</td>\n",
       "      <td>0.0530</td>\n",
       "      <td>298.81</td>\n",
       "      <td>3.83</td>\n",
       "      <td>1.8</td>\n",
       "      <td>...</td>\n",
       "      <td>1082.266141</td>\n",
       "      <td>1082.266141</td>\n",
       "      <td>129.106042</td>\n",
       "      <td>67.295111</td>\n",
       "      <td>129.105668</td>\n",
       "      <td>67.295190</td>\n",
       "      <td>129.093606</td>\n",
       "      <td>67.295422</td>\n",
       "      <td>129.093232</td>\n",
       "      <td>67.295501</td>\n",
       "    </tr>\n",
       "    <tr>\n",
       "      <th>2864</th>\n",
       "      <td>03496-0220</td>\n",
       "      <td>YR   23</td>\n",
       "      <td>AB</td>\n",
       "      <td>2022.0846</td>\n",
       "      <td>y</td>\n",
       "      <td>0.3433</td>\n",
       "      <td>0.0025</td>\n",
       "      <td>283.47</td>\n",
       "      <td>0.54</td>\n",
       "      <td>0.6</td>\n",
       "      <td>...</td>\n",
       "      <td>74.330344</td>\n",
       "      <td>74.330344</td>\n",
       "      <td>57.411167</td>\n",
       "      <td>-2.328472</td>\n",
       "      <td>57.411074</td>\n",
       "      <td>-2.328450</td>\n",
       "      <td>57.410891</td>\n",
       "      <td>-2.328654</td>\n",
       "      <td>57.410798</td>\n",
       "      <td>-2.328632</td>\n",
       "    </tr>\n",
       "    <tr>\n",
       "      <th>2865</th>\n",
       "      <td>10183+0841</td>\n",
       "      <td>YSC  93</td>\n",
       "      <td>AB</td>\n",
       "      <td>2021.3046</td>\n",
       "      <td>V</td>\n",
       "      <td>0.3299</td>\n",
       "      <td>0.0049</td>\n",
       "      <td>104.96</td>\n",
       "      <td>0.86</td>\n",
       "      <td>1.5</td>\n",
       "      <td>...</td>\n",
       "      <td>6.082763</td>\n",
       "      <td>6.082763</td>\n",
       "      <td>154.579875</td>\n",
       "      <td>8.682250</td>\n",
       "      <td>154.579965</td>\n",
       "      <td>8.682226</td>\n",
       "      <td>154.579879</td>\n",
       "      <td>8.682223</td>\n",
       "      <td>154.579969</td>\n",
       "      <td>8.682200</td>\n",
       "    </tr>\n",
       "    <tr>\n",
       "      <th>2866</th>\n",
       "      <td>10183+0841</td>\n",
       "      <td>YSC  93</td>\n",
       "      <td>AB</td>\n",
       "      <td>2021.3046</td>\n",
       "      <td>y</td>\n",
       "      <td>0.3972</td>\n",
       "      <td>0.0080</td>\n",
       "      <td>93.05</td>\n",
       "      <td>1.16</td>\n",
       "      <td>1.6</td>\n",
       "      <td>...</td>\n",
       "      <td>6.082763</td>\n",
       "      <td>6.082763</td>\n",
       "      <td>154.579875</td>\n",
       "      <td>8.682250</td>\n",
       "      <td>154.579986</td>\n",
       "      <td>8.682244</td>\n",
       "      <td>154.579879</td>\n",
       "      <td>8.682223</td>\n",
       "      <td>154.579991</td>\n",
       "      <td>8.682217</td>\n",
       "    </tr>\n",
       "    <tr>\n",
       "      <th>2867</th>\n",
       "      <td>13203+6938</td>\n",
       "      <td>YSC 101</td>\n",
       "      <td>AB</td>\n",
       "      <td>2021.2829</td>\n",
       "      <td>y</td>\n",
       "      <td>0.6617</td>\n",
       "      <td>0.1085</td>\n",
       "      <td>151.05</td>\n",
       "      <td>9.40</td>\n",
       "      <td>7.0</td>\n",
       "      <td>...</td>\n",
       "      <td>24.351591</td>\n",
       "      <td>24.351591</td>\n",
       "      <td>200.066375</td>\n",
       "      <td>69.635639</td>\n",
       "      <td>200.066631</td>\n",
       "      <td>69.635478</td>\n",
       "      <td>200.066081</td>\n",
       "      <td>69.635674</td>\n",
       "      <td>200.066337</td>\n",
       "      <td>69.635514</td>\n",
       "    </tr>\n",
       "  </tbody>\n",
       "</table>\n",
       "<p>2868 rows × 37 columns</p>\n",
       "</div>"
      ],
      "text/plain": [
       "          wds_id       wds_dd wds_comp   wsi_date wsi_filter  wsi_sep  \\\n",
       "0     18124-0718  A    36A,BC     A,BC  2020.5356          V  71.2909   \n",
       "1     18124-0718  A    36A,BC     A,BC  2020.5356          y  71.1704   \n",
       "2     05192-0304    A    53AB       AB  2022.0851          y   1.6830   \n",
       "3     06486-0405    A    58AB       AB  2021.1702          y   5.0778   \n",
       "4     05424+1259      A   116       AB  2022.1066          y   1.6954   \n",
       "...          ...          ...      ...        ...        ...      ...   \n",
       "2863  08364+6718      YR   13       AB  2022.2191          y   0.5926   \n",
       "2864  03496-0220      YR   23       AB  2022.0846          y   0.3433   \n",
       "2865  10183+0841      YSC  93       AB  2021.3046          V   0.3299   \n",
       "2866  10183+0841      YSC  93       AB  2021.3046          y   0.3972   \n",
       "2867  13203+6938      YSC 101       AB  2021.2829          y   0.6617   \n",
       "\n",
       "      wsi_sep_e  wsi_pa  wsi_pa_e  wsi_dm  ...      wds_pm1      wds_pm2  \\\n",
       "0        0.0207   39.00      0.02     5.6  ...    54.626001    15.264338   \n",
       "1        0.0264   38.95      0.02     5.5  ...    54.626001    15.264338   \n",
       "2        0.0164  294.29      0.58     3.4  ...   713.473195   660.461960   \n",
       "3        0.0023  161.43      0.03     1.3  ...    94.667840    94.667840   \n",
       "4        0.0136  291.63      0.46     3.2  ...    10.630146    10.630146   \n",
       "...         ...     ...       ...     ...  ...          ...          ...   \n",
       "2863     0.0530  298.81      3.83     1.8  ...  1082.266141  1082.266141   \n",
       "2864     0.0025  283.47      0.54     0.6  ...    74.330344    74.330344   \n",
       "2865     0.0049  104.96      0.86     1.5  ...     6.082763     6.082763   \n",
       "2866     0.0080   93.05      1.16     1.6  ...     6.082763     6.082763   \n",
       "2867     0.1085  151.05      9.40     7.0  ...    24.351591    24.351591   \n",
       "\n",
       "      wds_ra1_J2000  wds_dec1_J2000 wds_ra2_J2000 wds_dec2_J2000  \\\n",
       "0        273.100083       -7.296972    273.112647      -7.281582   \n",
       "1        273.100083       -7.296972    273.112612      -7.281597   \n",
       "2         79.802750       -3.073806     79.802323      -3.073613   \n",
       "3        102.149083       -4.075722    102.149534      -4.077059   \n",
       "4         85.593958       12.977944     85.593509      12.978118   \n",
       "...             ...             ...           ...            ...   \n",
       "2863     129.106042       67.295111    129.105668      67.295190   \n",
       "2864      57.411167       -2.328472     57.411074      -2.328450   \n",
       "2865     154.579875        8.682250    154.579965       8.682226   \n",
       "2866     154.579875        8.682250    154.579986       8.682244   \n",
       "2867     200.066375       69.635639    200.066631      69.635478   \n",
       "\n",
       "     wds_ra1_J2016 wds_dec1_J2016 wds_ra2_J2016  wds_dec2_J2016  \n",
       "0       273.099985      -7.297194    273.112589       -7.281547  \n",
       "1       273.099985      -7.297194    273.112554       -7.281562  \n",
       "2        79.805866      -3.073192     79.805230       -3.073173  \n",
       "3       102.148865      -4.076082    102.149315       -4.077419  \n",
       "4        85.593922      12.977913     85.593473       12.978087  \n",
       "...            ...            ...           ...             ...  \n",
       "2863    129.093606      67.295422    129.093232       67.295501  \n",
       "2864     57.410891      -2.328654     57.410798       -2.328632  \n",
       "2865    154.579879       8.682223    154.579969        8.682200  \n",
       "2866    154.579879       8.682223    154.579991        8.682217  \n",
       "2867    200.066081      69.635674    200.066337       69.635514  \n",
       "\n",
       "[2868 rows x 37 columns]"
      ]
     },
     "execution_count": 31,
     "metadata": {},
     "output_type": "execute_result"
    }
   ],
   "source": [
    "wsi"
   ]
  },
  {
   "cell_type": "code",
   "execution_count": null,
   "id": "6273b8ab-1a3d-42c8-8ce3-6be3b408c57f",
   "metadata": {},
   "outputs": [],
   "source": []
  }
 ],
 "metadata": {
  "kernelspec": {
   "display_name": "Python 3 (ipykernel)",
   "language": "python",
   "name": "python3"
  },
  "language_info": {
   "codemirror_mode": {
    "name": "ipython",
    "version": 3
   },
   "file_extension": ".py",
   "mimetype": "text/x-python",
   "name": "python",
   "nbconvert_exporter": "python",
   "pygments_lexer": "ipython3",
   "version": "3.11.7"
  }
 },
 "nbformat": 4,
 "nbformat_minor": 5
}
