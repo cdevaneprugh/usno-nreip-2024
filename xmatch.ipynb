{
 "cells": [
  {
   "cell_type": "code",
   "execution_count": 1,
   "id": "693431a9-9e10-4149-91c3-cd614d2265fd",
   "metadata": {},
   "outputs": [],
   "source": [
    "import warnings\n",
    "import numpy as np\n",
    "import pandas as pd\n",
    "import matplotlib.pyplot as plt\n",
    "from utils_xmatch import wsi_gaia_xmatch\n",
    "warnings.simplefilter(action='ignore', category=FutureWarning)"
   ]
  },
  {
   "cell_type": "markdown",
   "id": "762943f5-4daa-4f79-baf8-1bbe4e2d3fdd",
   "metadata": {},
   "source": [
    "Load in wsi and filter catalog"
   ]
  },
  {
   "cell_type": "code",
   "execution_count": 2,
   "id": "01443f60-412b-446e-84d4-2a2945e975f9",
   "metadata": {},
   "outputs": [
    {
     "name": "stdout",
     "output_type": "stream",
     "text": [
      "2868\n"
     ]
    },
    {
     "data": {
      "text/plain": [
       "2868"
      ]
     },
     "execution_count": 2,
     "metadata": {},
     "output_type": "execute_result"
    }
   ],
   "source": [
    "# read in wsi and force data types\n",
    "wsi = pd.read_csv('data/wsi24.sb.prop.csv').astype({ \n",
    "    'wsi_sep':float, 'wsi_sep_e':float, \n",
    "    'wsi_pa':float, 'wsi_pa_e':float, \n",
    "    'wsi_dm':float, 'wsi_dm_e':float,\n",
    "    'wds_mag1':float, 'wds_mag2':float,\n",
    "    'wds_pm1':float, 'wds_pm2':float,\n",
    "})\n",
    "print(len(wsi))\n",
    "\n",
    "# final filters\n",
    "sample = wsi.reset_index(drop=True)\n",
    "# sample = wsi.loc[ wsi.wsi_sep > 0.8 ].reset_index(drop=True)\n",
    "len(sample)"
   ]
  },
  {
   "cell_type": "code",
   "execution_count": 3,
   "id": "2bc27b7b-1c45-4d29-81b9-c85df8d69358",
   "metadata": {},
   "outputs": [],
   "source": [
    "# export sample to query gaia\n",
    "sample.to_csv('data/wsi.query_sample.csv', index=True, index_label='wsi_oid')"
   ]
  },
  {
   "cell_type": "markdown",
   "id": "78ee9a7e-6df2-4fd9-8e76-8e63532ec7d2",
   "metadata": {},
   "source": [
    "# Current setup\n",
    "* 5 arcsec search radius\n",
    "* queries gaia stars within 5 mags of match\n",
    "* we propagate ALL secondaries"
   ]
  },
  {
   "cell_type": "code",
   "execution_count": 4,
   "id": "617110ca-7ede-4ef4-802e-dd16db89972e",
   "metadata": {},
   "outputs": [
    {
     "name": "stdout",
     "output_type": "stream",
     "text": [
      "2868\n",
      "4116\n",
      "7569\n"
     ]
    }
   ],
   "source": [
    "# load in data\n",
    "wsi = pd.read_csv('data/wsi.query_sample.csv')\n",
    "gaia_pri = pd.read_csv('data/gaia.results/pri4mag-result.csv')\n",
    "gaia_sec = pd.read_csv('data/gaia.results/sec4mag1arcmin-result.csv')\n",
    "\n",
    "print( len(wsi) )\n",
    "print( len(gaia_pri) )\n",
    "print( len(gaia_sec) )"
   ]
  },
  {
   "cell_type": "code",
   "execution_count": 5,
   "id": "d69cd834-fdfd-46dc-b145-59a8390d68dd",
   "metadata": {},
   "outputs": [],
   "source": [
    "# crossmatch with J2016 propagation\n",
    "xmatch = wsi_gaia_xmatch( wsi, gaia_pri, gaia_sec )\n",
    "\n",
    "# where did our crossmatch agree with simbad?\n",
    "xmatch['xm_chk1'] = np.where( xmatch.gaia_id1 == xmatch.sb_id1, True, False )\n",
    "xmatch['xm_chk2'] = np.where( xmatch.gaia_id2 == xmatch.sb_id2, True, False )"
   ]
  },
  {
   "cell_type": "markdown",
   "id": "778998f3-fb6f-4cdc-80df-b373dfb59e9b",
   "metadata": {},
   "source": [
    "how many stars did we not find a match for?"
   ]
  },
  {
   "cell_type": "code",
   "execution_count": 6,
   "id": "c3ef38d3-dfcd-4715-924d-66e9fc148e67",
   "metadata": {},
   "outputs": [
    {
     "name": "stdout",
     "output_type": "stream",
     "text": [
      "no match candidates found in query\n",
      "primary: 0\n",
      "secondary: 326\n"
     ]
    }
   ],
   "source": [
    "print('no match candidates found in query')\n",
    "print( 'primary:', list( xmatch.gaia_flag1 ).count('$') )\n",
    "print( 'secondary:', list( xmatch.gaia_flag2 ).count('$') )"
   ]
  },
  {
   "cell_type": "markdown",
   "id": "57569d15-2cc4-4089-88c0-c9c0e910d5f1",
   "metadata": {},
   "source": [
    "For the secondaries with no proper motion, how many matches are missing?"
   ]
  },
  {
   "cell_type": "code",
   "execution_count": 7,
   "id": "9b2561b0-113f-4889-8ddf-06b38b71a83a",
   "metadata": {},
   "outputs": [
    {
     "name": "stdout",
     "output_type": "stream",
     "text": [
      "With PM: 195\n",
      "Without PM: 131\n"
     ]
    }
   ],
   "source": [
    "print( 'With PM:', list( xmatch.loc[xmatch.epoch_prop_flag != '!'].gaia_flag2 ).count('$') )\n",
    "print( 'Without PM:', list( xmatch.loc[xmatch.epoch_prop_flag == '!'].gaia_flag2 ).count('$') )"
   ]
  },
  {
   "cell_type": "markdown",
   "id": "c0d409cb-fb41-4985-b238-b81bc723f235",
   "metadata": {},
   "source": [
    "## SIMBAD Matches\n",
    "\n",
    "We want to see a few data points:\n",
    "\n",
    "1. Of the stars that simbad found a match for (no ! flag), what percentage do our cross matches agree?\n",
    "2. Where does simbad have and not have matches? Specific separation? dm?\n",
    "3. Of our matches that agree and disagree with simbad, do we see any trends in sep? dm?"
   ]
  },
  {
   "cell_type": "code",
   "execution_count": 8,
   "id": "2ead435e-e067-45ac-a424-f9bdcb2c70e4",
   "metadata": {},
   "outputs": [
    {
     "name": "stdout",
     "output_type": "stream",
     "text": [
      "direct | pri: 2079 sec: 1636\n",
      "flagged | pri: 19 sec: 10\n",
      "no match | pri: 770 sec: 1222\n"
     ]
    }
   ],
   "source": [
    "# where simbad found pri match\n",
    "sb1 = xmatch.loc[ xmatch.sb_flg1 == '.' ]\n",
    "sbf1 = xmatch.loc[ xmatch.sb_flg1 == '!' ]\n",
    "sbn1 = xmatch.loc[ xmatch.sb_flg1 == '$' ]\n",
    "\n",
    "# where simbad found sec match\n",
    "sb2 = xmatch.loc[ xmatch.sb_flg2 == '.' ]\n",
    "sbf2 = xmatch.loc[ xmatch.sb_flg2 == '!' ]\n",
    "sbn2 = xmatch.loc[ xmatch.sb_flg2 == '$' ]\n",
    "\n",
    "print( 'direct |', 'pri:', len(sb1), 'sec:', len(sb2) )\n",
    "print( 'flagged |', 'pri:', len(sbf1), 'sec:', len(sbf2) )\n",
    "print( 'no match |', 'pri:', len(sbn1), 'sec:', len(sbn2) )"
   ]
  },
  {
   "cell_type": "code",
   "execution_count": 9,
   "id": "ee71c7a8-f5a4-4a4c-b392-1950c739e0c9",
   "metadata": {},
   "outputs": [
    {
     "name": "stdout",
     "output_type": "stream",
     "text": [
      "xm_chk1\n",
      "True     2032\n",
      "False      47\n",
      "Name: count, dtype: int64\n",
      "xm_chk1\n",
      "True     0.977393\n",
      "False    0.022607\n",
      "Name: proportion, dtype: float64\n"
     ]
    }
   ],
   "source": [
    "print( sb1.xm_chk1.value_counts() )\n",
    "print( sb1.xm_chk1.value_counts(True) )"
   ]
  },
  {
   "cell_type": "code",
   "execution_count": 10,
   "id": "87f54d68-14de-4ddb-bec5-558ec697a067",
   "metadata": {},
   "outputs": [
    {
     "name": "stdout",
     "output_type": "stream",
     "text": [
      "xm_chk2\n",
      "True     1557\n",
      "False      79\n",
      "Name: count, dtype: int64\n",
      "xm_chk2\n",
      "True     0.951711\n",
      "False    0.048289\n",
      "Name: proportion, dtype: float64\n"
     ]
    }
   ],
   "source": [
    "print( sb2.xm_chk2.value_counts() )\n",
    "print( sb2.xm_chk2.value_counts(True) )"
   ]
  },
  {
   "cell_type": "code",
   "execution_count": 11,
   "id": "33ddfdb3-ab73-4231-acfd-ac4c65e907fc",
   "metadata": {},
   "outputs": [],
   "source": [
    "xmatch.to_csv('data/wsi24.xmatch.csv', index=False)"
   ]
  },
  {
   "cell_type": "code",
   "execution_count": null,
   "id": "a2f00b68-62e9-4a91-a4fe-a183f4802355",
   "metadata": {},
   "outputs": [],
   "source": []
  }
 ],
 "metadata": {
  "kernelspec": {
   "display_name": "Python 3 (ipykernel)",
   "language": "python",
   "name": "python3"
  },
  "language_info": {
   "codemirror_mode": {
    "name": "ipython",
    "version": 3
   },
   "file_extension": ".py",
   "mimetype": "text/x-python",
   "name": "python",
   "nbconvert_exporter": "python",
   "pygments_lexer": "ipython3",
   "version": "3.11.7"
  }
 },
 "nbformat": 4,
 "nbformat_minor": 5
}
